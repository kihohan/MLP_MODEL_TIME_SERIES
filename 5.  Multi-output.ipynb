{
 "cells": [
  {
   "cell_type": "markdown",
   "metadata": {},
   "source": [
    "5. Multi-output: 개별적으로 MLP 출력 모형을 만들어 각 출력 시계열을 처리함"
   ]
  },
  {
   "cell_type": "code",
   "execution_count": 8,
   "metadata": {},
   "outputs": [],
   "source": [
    "from tensorflow.python.client import device_lib\n",
    "import keras.backend.tensorflow_backend as K\n",
    "#print(device_lib.list_local_devices())\n",
    "from numpy import array \n",
    "from numpy import array \n",
    "from numpy import hstack \n",
    "from keras.models import Model \n",
    "from keras.layers import Input \n",
    "from keras.layers import Dense"
   ]
  },
  {
   "cell_type": "code",
   "execution_count": 2,
   "metadata": {},
   "outputs": [],
   "source": [
    "# split a multivariate sequence into samples \n",
    "def split_sequences_multi(sequences, n_steps): \n",
    "    X, y = list(), list() \n",
    "    for i in range(len(sequences)): \n",
    "        # find the end of this pattern \n",
    "        end_ix = i + n_steps \n",
    "        # check if we are beyond the dataset \n",
    "        if end_ix > len(sequences)-1: \n",
    "            break \n",
    "        # gather input and output parts of the pattern \n",
    "        seq_x, seq_y = sequences[i:end_ix, :], sequences[end_ix, :] # 이 부분이 다름\n",
    "        X.append(seq_x) \n",
    "        y.append(seq_y) \n",
    "    return array(X), array(y)"
   ]
  },
  {
   "cell_type": "code",
   "execution_count": 3,
   "metadata": {},
   "outputs": [],
   "source": [
    "# 예제 데이터 셋 정의\n",
    "in_seq1 = array([10, 20, 30, 40, 50, 60, 70, 80, 90])\n",
    "in_seq2 = array([15, 25, 35, 45, 55, 65, 75, 85, 95])\n",
    "out_seq = array([in_seq1[i]+in_seq2[i] for i in range(len(in_seq1))])"
   ]
  },
  {
   "cell_type": "code",
   "execution_count": 4,
   "metadata": {},
   "outputs": [],
   "source": [
    "# convert to [rows, columns] structure\n",
    "in_seq1 = in_seq1.reshape((len(in_seq1), 1))\n",
    "in_seq2 = in_seq2.reshape((len(in_seq2), 1))\n",
    "out_seq = out_seq.reshape((len(out_seq), 1))\n",
    "# horizontally stack columns\n",
    "dataset = hstack((in_seq1, in_seq2, out_seq))\n",
    "# choose a number of time steps\n",
    "n_steps = 3\n",
    "# convert into input/output\n",
    "X, y = split_sequences_multi(dataset, n_steps)"
   ]
  },
  {
   "cell_type": "code",
   "execution_count": 5,
   "metadata": {},
   "outputs": [],
   "source": [
    "# flatten input \n",
    "n_input = X.shape[1] * X.shape[2]\n",
    "X = X.reshape((X.shape[0], n_input))"
   ]
  },
  {
   "cell_type": "code",
   "execution_count": 6,
   "metadata": {},
   "outputs": [],
   "source": [
    "# separate output \n",
    "y1 = y[:, 0].reshape((y.shape[0], 1)) \n",
    "y2 = y[:, 1].reshape((y.shape[0], 1)) \n",
    "y3 = y[:, 2].reshape((y.shape[0], 1))"
   ]
  },
  {
   "cell_type": "code",
   "execution_count": 9,
   "metadata": {},
   "outputs": [
    {
     "name": "stdout",
     "output_type": "stream",
     "text": [
      "WARNING:tensorflow:From /home/kiho/anaconda3/lib/python3.7/site-packages/tensorflow/python/framework/op_def_library.py:263: colocate_with (from tensorflow.python.framework.ops) is deprecated and will be removed in a future version.\n",
      "Instructions for updating:\n",
      "Colocations handled automatically by placer.\n",
      "WARNING:tensorflow:From /home/kiho/anaconda3/lib/python3.7/site-packages/tensorflow/python/ops/math_ops.py:3066: to_int32 (from tensorflow.python.ops.math_ops) is deprecated and will be removed in a future version.\n",
      "Instructions for updating:\n",
      "Use tf.cast instead.\n"
     ]
    }
   ],
   "source": [
    "with K.tf.device('/gpu:0'): #'/cpu:0'\n",
    "    # define model \n",
    "    visible = Input(shape=(n_input,)) \n",
    "    dense = Dense(100, activation='relu')(visible)\n",
    "    # define output 1 \n",
    "    output1 = Dense(1)(dense) \n",
    "    # define output 2 \n",
    "    output2 = Dense(1)(dense) \n",
    "    # define output 3\n",
    "    output3 = Dense(1)(dense)\n",
    "    # tie together \n",
    "    model = Model(inputs=visible, outputs=[output1, output2, output3])\n",
    "    model.compile(optimizer='adam', loss='mse')\n",
    "    model.fit(X, [y1,y2,y3], epochs=2000, verbose=0)"
   ]
  },
  {
   "cell_type": "code",
   "execution_count": 10,
   "metadata": {},
   "outputs": [
    {
     "name": "stdout",
     "output_type": "stream",
     "text": [
      "[array([[100.016205]], dtype=float32), array([[104.99819]], dtype=float32), array([[205.03056]], dtype=float32)]\n"
     ]
    }
   ],
   "source": [
    "# 예측\n",
    "x_input = array([[70,75,145], [80,85,165], [90,95,185]]) \n",
    "x_input = x_input.reshape((1, n_input)) \n",
    "yhat = model.predict(x_input, verbose=0)\n",
    "print(yhat)"
   ]
  },
  {
   "cell_type": "code",
   "execution_count": null,
   "metadata": {},
   "outputs": [],
   "source": []
  }
 ],
 "metadata": {
  "kernelspec": {
   "display_name": "Python 3",
   "language": "python",
   "name": "python3"
  },
  "language_info": {
   "codemirror_mode": {
    "name": "ipython",
    "version": 3
   },
   "file_extension": ".py",
   "mimetype": "text/x-python",
   "name": "python",
   "nbconvert_exporter": "python",
   "pygments_lexer": "ipython3",
   "version": "3.7.3"
  }
 },
 "nbformat": 4,
 "nbformat_minor": 2
}
