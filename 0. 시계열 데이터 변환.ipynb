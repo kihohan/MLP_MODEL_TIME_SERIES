{
 "cells": [
  {
   "cell_type": "code",
   "execution_count": 1,
   "metadata": {},
   "outputs": [],
   "source": [
    "from numpy import array"
   ]
  },
  {
   "cell_type": "code",
   "execution_count": 2,
   "metadata": {},
   "outputs": [],
   "source": [
    "def split_sequence(sequence, n_steps): #sequence: 데이터 n_steps: 구간\n",
    "    X, y = list(), list() \n",
    "    len_ = len(sequence)\n",
    "    for i in range(len_): \n",
    "        # find the end of this pattern \n",
    "        end_ix = i + n_steps \n",
    "        # check if we are beyond the sequence \n",
    "        if end_ix > len(sequence)-1: \n",
    "            break \n",
    "        # gather input and output parts of the pattern \n",
    "        seq_x, seq_y = sequence[i:end_ix], sequence[end_ix] \n",
    "        X.append(seq_x) \n",
    "        y.append(seq_y)\n",
    "    return array(X), array(y)"
   ]
  },
  {
   "cell_type": "code",
   "execution_count": 3,
   "metadata": {},
   "outputs": [
    {
     "name": "stdout",
     "output_type": "stream",
     "text": [
      "series.shape: (10,)\n",
      "-------------------------\n",
      "X.shape, y.shape: (7, 3) (7,)\n",
      "-------------------------\n",
      "X[i] | y[i]: [1 2 3] | 4\n",
      "X[i] | y[i]: [2 3 4] | 5\n",
      "X[i] | y[i]: [3 4 5] | 6\n",
      "X[i] | y[i]: [4 5 6] | 7\n",
      "X[i] | y[i]: [5 6 7] | 8\n",
      "X[i] | y[i]: [6 7 8] | 9\n",
      "X[i] | y[i]: [7 8 9] | 10\n"
     ]
    }
   ],
   "source": [
    "# define univariate time series \n",
    "series = array([1, 2, 3, 4, 5, 6, 7, 8, 9, 10]) \n",
    "print('series.shape:',series.shape)\n",
    "print ('-------------------------')\n",
    "\n",
    "# transform to a supervised learning problem \n",
    "X, y = split_sequence(series, 3) \n",
    "print('X.shape, y.shape:',X.shape, y.shape) \n",
    "print ('-------------------------')\n",
    "# show each sample \n",
    "for i in range(len(X)): \n",
    "    print('X[i] | y[i]:',X[i],'|', y[i])"
   ]
  },
  {
   "cell_type": "code",
   "execution_count": 4,
   "metadata": {},
   "outputs": [
    {
     "data": {
      "text/plain": [
       "(7, 3, 1)"
      ]
     },
     "execution_count": 4,
     "metadata": {},
     "output_type": "execute_result"
    }
   ],
   "source": [
    "# 2d -> 3d\n",
    "# [samples, features] 를 [samples, timesteps, features] \n",
    "X_3D = X.reshape((X.shape[0], X.shape[1], 1))\n",
    "X_3D.shape"
   ]
  },
  {
   "cell_type": "markdown",
   "metadata": {},
   "source": [
    "적용사례"
   ]
  },
  {
   "cell_type": "code",
   "execution_count": 5,
   "metadata": {},
   "outputs": [
    {
     "data": {
      "text/html": [
       "<div>\n",
       "<style scoped>\n",
       "    .dataframe tbody tr th:only-of-type {\n",
       "        vertical-align: middle;\n",
       "    }\n",
       "\n",
       "    .dataframe tbody tr th {\n",
       "        vertical-align: top;\n",
       "    }\n",
       "\n",
       "    .dataframe thead th {\n",
       "        text-align: right;\n",
       "    }\n",
       "</style>\n",
       "<table border=\"1\" class=\"dataframe\">\n",
       "  <thead>\n",
       "    <tr style=\"text-align: right;\">\n",
       "      <th></th>\n",
       "      <th>Time</th>\n",
       "      <th>Sales</th>\n",
       "    </tr>\n",
       "  </thead>\n",
       "  <tbody>\n",
       "    <tr>\n",
       "      <th>0</th>\n",
       "      <td>1</td>\n",
       "      <td>10</td>\n",
       "    </tr>\n",
       "    <tr>\n",
       "      <th>1</th>\n",
       "      <td>2</td>\n",
       "      <td>20</td>\n",
       "    </tr>\n",
       "    <tr>\n",
       "      <th>2</th>\n",
       "      <td>3</td>\n",
       "      <td>30</td>\n",
       "    </tr>\n",
       "    <tr>\n",
       "      <th>3</th>\n",
       "      <td>4</td>\n",
       "      <td>40</td>\n",
       "    </tr>\n",
       "    <tr>\n",
       "      <th>4</th>\n",
       "      <td>5</td>\n",
       "      <td>50</td>\n",
       "    </tr>\n",
       "  </tbody>\n",
       "</table>\n",
       "</div>"
      ],
      "text/plain": [
       "   Time  Sales\n",
       "0     1     10\n",
       "1     2     20\n",
       "2     3     30\n",
       "3     4     40\n",
       "4     5     50"
      ]
     },
     "execution_count": 5,
     "metadata": {},
     "output_type": "execute_result"
    }
   ],
   "source": [
    "import pandas as pd\n",
    "location = \"/home/kiho/바탕화면/고급시계열분석/Week_01/Data/Sales.csv\" \n",
    "series = pd.read_csv(location, header=0)\n",
    "series.head()"
   ]
  },
  {
   "cell_type": "code",
   "execution_count": 6,
   "metadata": {},
   "outputs": [
    {
     "name": "stdout",
     "output_type": "stream",
     "text": [
      "[[ 1 10]\n",
      " [ 2 20]\n",
      " [ 3 30]\n",
      " [ 4 40]\n",
      " [ 5 50]]\n",
      "-------------------------\n",
      "data.shape: (5000, 2)\n"
     ]
    }
   ],
   "source": [
    "# numpy array로 전환\n",
    "import numpy as np\n",
    "data = np.array(series)\n",
    "print(data[:5, :])\n",
    "print ('-------------------------')\n",
    "print('data.shape:',data.shape)"
   ]
  },
  {
   "cell_type": "code",
   "execution_count": 7,
   "metadata": {},
   "outputs": [],
   "source": [
    "data = data[:, 1] "
   ]
  },
  {
   "cell_type": "code",
   "execution_count": 10,
   "metadata": {},
   "outputs": [],
   "source": [
    "X, y = split_sequence(data,3)"
   ]
  },
  {
   "cell_type": "code",
   "execution_count": 11,
   "metadata": {},
   "outputs": [
    {
     "name": "stdout",
     "output_type": "stream",
     "text": [
      "data.shape: (4997, 3, 1)\n"
     ]
    }
   ],
   "source": [
    "X_3D = X.reshape((X.shape[0], X.shape[1], 1))\n",
    "print('data.shape:',X_3D.shape)"
   ]
  },
  {
   "cell_type": "code",
   "execution_count": null,
   "metadata": {},
   "outputs": [],
   "source": []
  }
 ],
 "metadata": {
  "kernelspec": {
   "display_name": "Python 3",
   "language": "python",
   "name": "python3"
  },
  "language_info": {
   "codemirror_mode": {
    "name": "ipython",
    "version": 3
   },
   "file_extension": ".py",
   "mimetype": "text/x-python",
   "name": "python",
   "nbconvert_exporter": "python",
   "pygments_lexer": "ipython3",
   "version": "3.7.3"
  }
 },
 "nbformat": 4,
 "nbformat_minor": 2
}
